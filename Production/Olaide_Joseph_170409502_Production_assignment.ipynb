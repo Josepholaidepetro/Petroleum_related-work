{
  "nbformat": 4,
  "nbformat_minor": 0,
  "metadata": {
    "colab": {
      "name": "Olaide Joseph 170409502 Production assignment.ipynb",
      "provenance": [],
      "authorship_tag": "ABX9TyMJ3IfS4wk2UjmrUw6brQ0P",
      "include_colab_link": true
    },
    "kernelspec": {
      "name": "python3",
      "display_name": "Python 3"
    },
    "widgets": {
      "application/vnd.jupyter.widget-state+json": {
        "3df6b137f568434094b4fcb4d0732150": {
          "model_module": "@jupyter-widgets/controls",
          "model_name": "ButtonModel",
          "state": {
            "_view_name": "ButtonView",
            "style": "IPY_MODEL_2aef817092e948b2bdae1e8a4d578446",
            "_dom_classes": [],
            "description": "Click here for result!",
            "_model_name": "ButtonModel",
            "button_style": "",
            "_view_module": "@jupyter-widgets/controls",
            "_model_module_version": "1.5.0",
            "tooltip": "",
            "_view_count": null,
            "disabled": false,
            "_view_module_version": "1.5.0",
            "layout": "IPY_MODEL_40b6447537b94d5bb8e77ae84faa2faf",
            "_model_module": "@jupyter-widgets/controls",
            "icon": ""
          }
        },
        "2aef817092e948b2bdae1e8a4d578446": {
          "model_module": "@jupyter-widgets/controls",
          "model_name": "ButtonStyleModel",
          "state": {
            "_view_name": "StyleView",
            "_model_name": "ButtonStyleModel",
            "_view_module": "@jupyter-widgets/base",
            "_model_module_version": "1.5.0",
            "_view_count": null,
            "button_color": null,
            "font_weight": "",
            "_view_module_version": "1.2.0",
            "_model_module": "@jupyter-widgets/controls"
          }
        },
        "40b6447537b94d5bb8e77ae84faa2faf": {
          "model_module": "@jupyter-widgets/base",
          "model_name": "LayoutModel",
          "state": {
            "_view_name": "LayoutView",
            "grid_template_rows": null,
            "right": null,
            "justify_content": null,
            "_view_module": "@jupyter-widgets/base",
            "overflow": null,
            "_model_module_version": "1.2.0",
            "_view_count": null,
            "flex_flow": null,
            "width": null,
            "min_width": null,
            "border": null,
            "align_items": null,
            "bottom": null,
            "_model_module": "@jupyter-widgets/base",
            "top": null,
            "grid_column": null,
            "overflow_y": null,
            "overflow_x": null,
            "grid_auto_flow": null,
            "grid_area": null,
            "grid_template_columns": null,
            "flex": null,
            "_model_name": "LayoutModel",
            "justify_items": null,
            "grid_row": null,
            "max_height": null,
            "align_content": null,
            "visibility": null,
            "align_self": null,
            "height": null,
            "min_height": null,
            "padding": null,
            "grid_auto_rows": null,
            "grid_gap": null,
            "max_width": null,
            "order": null,
            "_view_module_version": "1.2.0",
            "grid_template_areas": null,
            "object_position": null,
            "object_fit": null,
            "grid_auto_columns": null,
            "margin": null,
            "display": null,
            "left": null
          }
        },
        "5e0949ac9ead4e3db74cfe5c17db240d": {
          "model_module": "@jupyter-widgets/output",
          "model_name": "OutputModel",
          "state": {
            "_view_name": "OutputView",
            "msg_id": "",
            "_dom_classes": [],
            "_model_name": "OutputModel",
            "outputs": [
              {
                "output_type": "stream",
                "metadata": {
                  "tags": []
                },
                "text": "The Bottomhole Flowing Pressure is 1668 psia\n",
                "stream": "stdout"
              }
            ],
            "_view_module": "@jupyter-widgets/output",
            "_model_module_version": "1.0.0",
            "_view_count": null,
            "_view_module_version": "1.0.0",
            "layout": "IPY_MODEL_478c4f3b6e1c4ee78b8edce8c87be77e",
            "_model_module": "@jupyter-widgets/output"
          }
        },
        "478c4f3b6e1c4ee78b8edce8c87be77e": {
          "model_module": "@jupyter-widgets/base",
          "model_name": "LayoutModel",
          "state": {
            "_view_name": "LayoutView",
            "grid_template_rows": null,
            "right": null,
            "justify_content": null,
            "_view_module": "@jupyter-widgets/base",
            "overflow": null,
            "_model_module_version": "1.2.0",
            "_view_count": null,
            "flex_flow": null,
            "width": null,
            "min_width": null,
            "border": null,
            "align_items": null,
            "bottom": null,
            "_model_module": "@jupyter-widgets/base",
            "top": null,
            "grid_column": null,
            "overflow_y": null,
            "overflow_x": null,
            "grid_auto_flow": null,
            "grid_area": null,
            "grid_template_columns": null,
            "flex": null,
            "_model_name": "LayoutModel",
            "justify_items": null,
            "grid_row": null,
            "max_height": null,
            "align_content": null,
            "visibility": null,
            "align_self": null,
            "height": null,
            "min_height": null,
            "padding": null,
            "grid_auto_rows": null,
            "grid_gap": null,
            "max_width": null,
            "order": null,
            "_view_module_version": "1.2.0",
            "grid_template_areas": null,
            "object_position": null,
            "object_fit": null,
            "grid_auto_columns": null,
            "margin": null,
            "display": null,
            "left": null
          }
        }
      }
    }
  },
  "cells": [
    {
      "cell_type": "markdown",
      "metadata": {
        "id": "view-in-github",
        "colab_type": "text"
      },
      "source": [
        "<a href=\"https://colab.research.google.com/github/Josepholaidepetro/Petroleum_related-work/blob/main/Production/Olaide_Joseph_170409502_Production_assignment.ipynb\" target=\"_parent\"><img src=\"https://colab.research.google.com/assets/colab-badge.svg\" alt=\"Open In Colab\"/></a>"
      ]
    },
    {
      "cell_type": "code",
      "metadata": {
        "cellView": "form",
        "id": "N9ici9Ek8H4N"
      },
      "source": [
        "#@title Date Created\r\n",
        "Date = '2021-02-13' #@param {type:\"date\"}"
      ],
      "execution_count": null,
      "outputs": []
    },
    {
      "cell_type": "code",
      "metadata": {
        "colab": {
          "base_uri": "https://localhost:8080/",
          "height": 35
        },
        "cellView": "form",
        "id": "GVWdCfCRvpxD",
        "outputId": "fad378bf-2e03-4161-dc2c-84efbe4bd484"
      },
      "source": [
        "#@title #**Petroleum Production Engineering**\n",
        "\n",
        "\n",
        "%%html\n",
        "<marquee style='width: 50%; color: Black;'>Welcome to Joseph Olaide's Petroleum Production Engineering Assignment Workflow!</marquee>"
      ],
      "execution_count": 48,
      "outputs": [
        {
          "output_type": "display_data",
          "data": {
            "text/html": [
              "<marquee style='width: 50%; color: Black;'>Welcome to Joseph Olaide's Petroleum Production Engineering Assignment Workflow!</marquee>"
            ],
            "text/plain": [
              "<IPython.core.display.HTML object>"
            ]
          },
          "metadata": {
            "tags": []
          }
        }
      ]
    },
    {
      "cell_type": "code",
      "metadata": {
        "colab": {
          "base_uri": "https://localhost:8080/"
        },
        "id": "gxow6Q2SgpIR",
        "outputId": "cc36ab18-a9a6-4c37-cd6a-5392ba5f0ca0"
      },
      "source": [
        "import numpy as np\r\n",
        "from math import pow, cos, atan, radians\r\n",
        "from scipy.misc import derivative\r\n",
        "\r\n",
        "\r\n",
        "def guo_ghalambor(phf, Tbh, Ttube, L, theta, qo, yo, qg, yg, qw, yw, qs, ys, D=None, A=None):\r\n",
        "    \"\"\" This is function that solves the bottomhole flowing pressure\r\n",
        "     using the Guo Ghalabor method\r\n",
        "\r\n",
        "    :param phf: wellhead flowing pressure, psia\r\n",
        "    :param Tbh:ttom hole temperature\r\n",
        "    :param Ttube: Tubing head temperature\r\n",
        "    :param L: conduit length, ft\r\n",
        "    :param theta: The average inclination angle\r\n",
        "    :param qo: oil production rate, bbl/d\r\n",
        "    :param yo: specific gravity of produced oil, freshwater = 1\r\n",
        "    :param qg: gas production rate, scf/d\r\n",
        "    :param yg: specific gravity of gas, air = 1\r\n",
        "    :param qw: water production rate, bbl/d\r\n",
        "    :param yw: specific gravity of produced water, fresh water = 1\r\n",
        "    :param qs: sand production rate, ft^3/day\r\n",
        "    :param ys: specific gravity of produced solid, fresh water = 1\r\n",
        "    :param D: Tubing inner diameter\r\n",
        "    :param A: cross-sectional area of conduit, ft^2\r\n",
        "    \"\"\"\r\n",
        "    theta = radians(theta)  # convert to radians for easy python calculations\r\n",
        "    wor = qw / qo  # Water-to-Oil ratio\r\n",
        "    gor = qg / qo  # Gas-to-Oil ratio\r\n",
        "    dens_air = 0.0765  # Density of air in lbm/ft^3\r\n",
        "    g = 32.17  # gravity in ft/s^2\r\n",
        "    Ttube = Ttube + 460\r\n",
        "    Tbh = Tbh + 460\r\n",
        "    Tav = (Ttube + Tbh) / 2\r\n",
        "    if A is None:\r\n",
        "        A = ((np.pi * pow(D, 2)) / 4)\r\n",
        "        D = D / 12\r\n",
        "    elif D is None:\r\n",
        "        A = A\r\n",
        "\r\n",
        "    a = (0.0765 * yg * qg + 350 * yo * qo + 350 * yw * qw + 62.4 * ys * qs) / (\r\n",
        "            4.07 * Tav * qg)\r\n",
        "\r\n",
        "    b = (5.615 * qo + 5.615 * qw + qs) / (4.07 * Tav * qg)\r\n",
        "\r\n",
        "    c = (0.00678 * Tav * qg) / A\r\n",
        "\r\n",
        "    d = (0.00166 / A) * (5.615 * qo + 5.615 * qw + qs)\r\n",
        "\r\n",
        "    Mf = 350.17 * (yo + (wor * yw)) + (gor * dens_air * yg)  # Total mass with 1 STB of oil\r\n",
        "\r\n",
        "    Dpv = (1.4737e-05 * Mf * qo) / D  # Inertia force\r\n",
        "\r\n",
        "    ff = pow(10, (1.444 - 2.5 * np.log10(Dpv)))  # fanning friction factor\r\n",
        "\r\n",
        "    fm = 4 * 4 * ff  # Darcy–Wiesbach friction factor \r\n",
        "\r\n",
        "    e = fm / (2 * g * D)\r\n",
        "\r\n",
        "    M = (c * d * e) / (cos(theta) + (pow(d, 2) * e))\r\n",
        "\r\n",
        "    N = (pow(c, 2) * e * cos(theta)) / pow((cos(theta) + (pow(d, 2) * e)), 2)\r\n",
        "\r\n",
        "    f = lambda p: (144 * b * (p - phf)) + ((1 - (2 * b * M)) / 2) * np.log(\r\n",
        "        ((((144 * p) + M) ** 2) + N) / ((((144 * phf) + M) ** 2) + N)) \\\r\n",
        "                  - ((M + (N * b / c) - (b * M ** 0.5)) / (N ** 0.5)) * (\r\n",
        "                          (atan(((144 * p) + M) / (N ** 0.5))) - (\r\n",
        "                      atan(((144 * phf) + M) / (N ** 0.5)))) \\\r\n",
        "                  - a * (cos(theta) + pow(d, 2) * e) * L\r\n",
        "\r\n",
        "    def newton_raphson(fn, y, tol, iterations):\r\n",
        "        \"\"\" This is function solves non-linear equation using the newton raphson's method\r\n",
        "        :param fn: The equation\r\n",
        "        :param y: the initial guess\r\n",
        "        :param tol: the tolerance\r\n",
        "        :param iterations: number of iterations\r\n",
        "        :return: roots of the equation\r\n",
        "        \"\"\"\r\n",
        "        try:\r\n",
        "            for i in range(iterations):\r\n",
        "                ynew = y - fn(y) / derivative(fn, y, dx=1e-4)\r\n",
        "                if abs(ynew - y) < tol:\r\n",
        "                    break\r\n",
        "                y = ynew\r\n",
        "        except Exception:\r\n",
        "            print(\"Math error encountered\")\r\n",
        "        else:\r\n",
        "            return f'The Bottomhole Flowing Pressure is {round(ynew)} psia'\r\n",
        "\r\n",
        "    return newton_raphson(f, 1, 1e-7, 100)\r\n",
        "\r\n",
        "\r\n",
        "a = guo_ghalambor(phf=300, Tbh=224, Ttube=100, L=7000, theta=20, qo=1000, yo=0.85, qg=1e6, yg=0.7, qw=300, yw=1.05,\r\n",
        "                  qs=1, ys=2.65, D=1.995)\r\n",
        "print(a)"
      ],
      "execution_count": 53,
      "outputs": [
        {
          "output_type": "stream",
          "text": [
            "The Bottomhole Flowing Pressure is 1668 psia\n"
          ],
          "name": "stdout"
        }
      ]
    },
    {
      "cell_type": "code",
      "metadata": {
        "colab": {
          "base_uri": "https://localhost:8080/",
          "height": 67,
          "referenced_widgets": [
            "3df6b137f568434094b4fcb4d0732150",
            "2aef817092e948b2bdae1e8a4d578446",
            "40b6447537b94d5bb8e77ae84faa2faf",
            "5e0949ac9ead4e3db74cfe5c17db240d",
            "478c4f3b6e1c4ee78b8edce8c87be77e"
          ]
        },
        "id": "YvAUuQFJhyZP",
        "outputId": "7a20f865-ec77-45e3-e068-3b172ebe7fa1"
      },
      "source": [
        "#@title Input Data { run: \"auto\", display-mode: \"form\" }\r\n",
        "Wellhead_pressure =  300#@param {type:\"number\"}\r\n",
        "Bottomhole_Temperature =  224#@param {type:\"number\"}\r\n",
        "Wellhead_Temperature =  100#@param {type:\"number\"}\r\n",
        "Conduit_Length =  7000#@param {type:\"number\"}\r\n",
        "Oil_Production = 1000 #@param {type:\"number\"}\r\n",
        "Gas_Production = 1000000 #@param {type:\"number\"}\r\n",
        "Water_Production =  300#@param {type:\"number\"}\r\n",
        "Sand_Production = 1 #@param {type:\"number\"}\r\n",
        "Hydraulic_Diameter = 1.995 #@param {type:\"number\"}\r\n",
        "Inclination_angle = 20 #@param {type:\"slider\", min:0, max:360, step:1}\r\n",
        "Oil_Specific_Gravity = 0.85 #@param {type:\"slider\", min:0, max:1.5, step:0.05}\r\n",
        "Gas_Specific_Gravity = 0.7 #@param {type:\"slider\", min:0, max:1.5, step:0.05}\r\n",
        "Water_Specific_Gravity = 1.05 #@param {type:\"slider\", min:0, max:1.5, step:0.05}\r\n",
        "Sand_Specific_Gravity = 2.65 #@param {type:\"slider\", min:0, max:3.5, step:0.05}\r\n",
        "\r\n",
        "\r\n",
        "\r\n",
        "a = Guo_Ghalambor(phf=Wellhead_pressure, Tbh=Bottomhole_Temperature, \r\n",
        "                  Ttube=Wellhead_Temperature, L=Conduit_Length, \r\n",
        "                  theta=Inclination_angle, qo=Oil_Production, \r\n",
        "                  yo=Oil_Specific_Gravity, qg=Gas_Production, \r\n",
        "                  yg=Gas_Specific_Gravity, qw=Water_Production, \r\n",
        "                  yw=Water_Specific_Gravity,\r\n",
        "                  qs=Sand_Production, ys=Sand_Specific_Gravity, \r\n",
        "                  D=Hydraulic_Diameter)\r\n",
        "\r\n",
        "import ipywidgets as widgets\r\n",
        "from IPython.display import display\r\n",
        "\r\n",
        "button = widgets.Button(description=\"Click here for result!\")\r\n",
        "output = widgets.Output()\r\n",
        "\r\n",
        "def on_button_clicked(b):\r\n",
        "  # Display the message within the output widget.\r\n",
        "  with output:\r\n",
        "    print(a)\r\n",
        "\r\n",
        "button.on_click(on_button_clicked)\r\n",
        "display(button, output)"
      ],
      "execution_count": 57,
      "outputs": [
        {
          "output_type": "display_data",
          "data": {
            "application/vnd.jupyter.widget-view+json": {
              "model_id": "3df6b137f568434094b4fcb4d0732150",
              "version_minor": 0,
              "version_major": 2
            },
            "text/plain": [
              "Button(description='Click here for result!', style=ButtonStyle())"
            ]
          },
          "metadata": {
            "tags": []
          }
        },
        {
          "output_type": "display_data",
          "data": {
            "application/vnd.jupyter.widget-view+json": {
              "model_id": "5e0949ac9ead4e3db74cfe5c17db240d",
              "version_minor": 0,
              "version_major": 2
            },
            "text/plain": [
              "Output()"
            ]
          },
          "metadata": {
            "tags": []
          }
        }
      ]
    },
    {
      "cell_type": "markdown",
      "metadata": {
        "id": "CT0VOtO89WJ8"
      },
      "source": [
        "Assignment Link: https://colab.research.google.com/drive/1eLAixO2pz_Znn7IF6lyvDMcAhWzg1Dux?usp=sharing\r\n"
      ]
    }
  ]
}